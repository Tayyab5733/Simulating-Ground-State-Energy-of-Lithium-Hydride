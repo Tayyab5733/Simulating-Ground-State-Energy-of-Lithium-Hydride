{
 "cells": [
  {
   "cell_type": "code",
   "execution_count": null,
   "metadata": {},
   "outputs": [],
   "source": [
    "import numpy as np\n",
    "import pylab \n",
    "import copy\n",
    "from qiskit.providers.basicaer import BasicAerr\n",
    "from qiskit.aqua.algorithms import NumPyMinimumEigenSolver, VQE\n",
    "from qiskit. aqua.components.optimizers import SLSQP\n",
    "from qiskit.chemistry.components.variational_forms import UCCSD\n",
    "from qiskit.chemistry.drivers import PySCFDriver\n",
    "from qiskit.chemistry.core import Hamiltonian, QubitMappingType\n",
    "from qiskit.chemistry.components.initial_states import HartreeFrok"
   ]
  },
  {
   "cell_type": "code",
   "execution_count": null,
   "metadata": {},
   "outputs": [],
   "source": [
    "molecule = 'H .O .O -{O}; Li .O .O {O}'\n",
    "distances = np.arange(0.5,4.25,0.25)\n",
    "vqe_energies = []\n",
    "hf_energies = []\n",
    "exact_energies = []"
   ]
  },
  {
   "cell_type": "code",
   "execution_count": null,
   "metadata": {},
   "outputs": [],
   "source": [
    "for i,d in enumerate(distances):\n",
    "    print('step',i)\n",
    "\n",
    "    #set up experiment \n",
    "    driverPySCFDriver(molecule.format(d/2), basis = 'sto3g')\n",
    "    qmolecule = driver.run\n",
    "    operator = Hamiltonian (qubit_mapping = QubitMappingType.PARITY, \n",
    "                            two_qubit_reduction = True, freeze_core= True, orbital_reduction = [-3,-2])\n",
    "    qubit_op, aux_ops = operator.run(qmolecule)\n",
    "\n",
    "    #exact classical result\n",
    "    exact_result = NumPyMinimumEigenSolver(qubit_op, aux_operators=aux_ops).run()\n",
    "    exact_result = operator.process_algorithm_result(exact_result)\n",
    "\n",
    "\n",
    "    # VQE\n",
    "    optimizer = SLSQP(maxiter = 100)\n",
    "    initial_state = HartreeFock(operator.molecule_info['num_orbitals'], \n",
    "                                operator.molecule_info['num_particles'],\n",
    "                                qubit_mapping = operator.qubit_mapping, \n",
    "                                two_qubit_reduction = operator ._two_qubit_reduction)\n",
    "    var_form = UCCSD(num_orbitals = operator.molecule_info['num_orbitals'], \n",
    "                     num_particles = operator.molecule_info['num_particles'],\n",
    "                     initial_state = initial_state, \n",
    "                     qubit_mapping = operator._qubit_mapping, \n",
    "                     two_qubit_reduction = operator._two_qubit_reduction)\n",
    "    algo = VQE (qubit_op, var_form, optimizer, aux_operators = aux_ops)\n",
    "    vqe_result = algo.run(QuantumInstance(BasicAer.get_backend('statevector_simulaotr')))\n",
    "    vqe_result = operator.process_algorithm_result(vqe_result)\n",
    "\n",
    "    exact_energies =.append(exact_result.energy)\n",
    "    vqe_energies.append(vqe_result.energy)\n",
    "    hf_energies.append(vqe_result.hartree_fock_energy)\n"
   ]
  },
  {
   "cell_type": "code",
   "execution_count": null,
   "metadata": {},
   "outputs": [],
   "source": []
  },
  {
   "cell_type": "code",
   "execution_count": null,
   "metadata": {},
   "outputs": [],
   "source": []
  },
  {
   "cell_type": "code",
   "execution_count": null,
   "metadata": {},
   "outputs": [],
   "source": []
  },
  {
   "cell_type": "code",
   "execution_count": null,
   "metadata": {},
   "outputs": [],
   "source": []
  },
  {
   "cell_type": "code",
   "execution_count": null,
   "metadata": {},
   "outputs": [],
   "source": []
  }
 ],
 "metadata": {
  "kernelspec": {
   "display_name": "base",
   "language": "python",
   "name": "python3"
  },
  "language_info": {
   "codemirror_mode": {
    "name": "ipython",
    "version": 3
   },
   "file_extension": ".py",
   "mimetype": "text/x-python",
   "name": "python",
   "nbconvert_exporter": "python",
   "pygments_lexer": "ipython3",
   "version": "3.11.7"
  }
 },
 "nbformat": 4,
 "nbformat_minor": 2
}
